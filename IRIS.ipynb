{
 "cells": [
  {
   "cell_type": "code",
   "execution_count": 4,
   "id": "669d39b2-5735-4d0f-b2e1-bd1ee0585374",
   "metadata": {},
   "outputs": [
    {
     "name": "stdout",
     "output_type": "stream",
     "text": [
      "Fitting 5 folds for each of 48 candidates, totalling 240 fits\n",
      "Best Parameters: {'C': 0.1, 'gamma': 1, 'kernel': 'linear'}\n",
      "Fitting 5 folds for each of 48 candidates, totalling 240 fits\n",
      "Best Parameters: {'C': 0.1, 'gamma': 0.1, 'kernel': 'poly'}\n",
      "Fitting 5 folds for each of 48 candidates, totalling 240 fits\n",
      "Best Parameters: {'C': 100, 'gamma': 0.01, 'kernel': 'rbf'}\n",
      "Fitting 5 folds for each of 48 candidates, totalling 240 fits\n",
      "Best Parameters: {'C': 0.1, 'gamma': 1, 'kernel': 'poly'}\n",
      "\n",
      "Best Test Size: 0.1\n",
      "\n",
      "Training Accuracy: 98.51851851851852\n",
      "\n",
      "Test Accuracy: 100.0\n",
      "\n",
      "Precision: 1.0\n",
      "Recall: 1.0\n",
      "F1-score: 1.0\n"
     ]
    }
   ],
   "source": [
    "import pandas as pd\n",
    "from sklearn.model_selection import train_test_split, GridSearchCV\n",
    "from sklearn.svm import SVC\n",
    "from sklearn.metrics import accuracy_score, precision_score, recall_score, f1_score\n",
    "\n",
    "# Load your dataset from a CSV file\n",
    "file_path = 'IRIS.csv'  # Update with your file path\n",
    "df = pd.read_csv(file_path)\n",
    "\n",
    "# Split the data into features (X) and target (y)\n",
    "X = df.drop('species', axis=1)\n",
    "y = df['species']\n",
    "\n",
    "# Define the SVM classifier\n",
    "svm = SVC()\n",
    "\n",
    "# Define the grid of parameters to search (C: regularization parameter, gamma: kernel coefficient)\n",
    "param_grid = {'C': [0.1, 1, 10, 100],\n",
    "              'gamma': [1, 0.1, 0.01, 0.001],\n",
    "              'kernel': ['linear', 'rbf', 'poly']}\n",
    "\n",
    "# Use GridSearchCV to search for the best parameters and split ratio using cross-validation\n",
    "grid_search = GridSearchCV(estimator=svm, param_grid=param_grid, cv=5, scoring='accuracy', verbose=1, n_jobs=-1)\n",
    "\n",
    "# Perform nested cross-validation to determine the best split ratio (test_size)\n",
    "best_test_size = None\n",
    "best_score = 0.0\n",
    "\n",
    "for test_size in [0.1, 0.2, 0.3, 0.4]:  # Test different split ratios\n",
    "    X_train, X_test, y_train, y_test = train_test_split(X, y, test_size=test_size, random_state=42)\n",
    "    \n",
    "    # Perform GridSearchCV on the training data\n",
    "    grid_search.fit(X_train, y_train)\n",
    "\n",
    "    # Print the best parameters found by GridSearchCV\n",
    "    print(\"Best Parameters:\", grid_search.best_params_)\n",
    "    \n",
    "    # Get the best model and its score\n",
    "    if grid_search.best_score_ > best_score:\n",
    "        best_score = grid_search.best_score_\n",
    "        best_test_size = test_size\n",
    "\n",
    "# Print the best test_size found\n",
    "print()\n",
    "print(\"Best Test Size:\", best_test_size)\n",
    "\n",
    "# Split the data with the best test_size\n",
    "X_train, X_test, y_train, y_test = train_test_split(X, y, test_size=best_test_size, random_state=42)\n",
    "\n",
    "# Train the SVM classifier with the best parameters found\n",
    "best_svm = grid_search.best_estimator_\n",
    "best_svm.fit(X_train, y_train)\n",
    "\n",
    "# Make predictions on the training set\n",
    "y_train_pred = best_svm.predict(X_train)\n",
    "\n",
    "# Calculate the accuracy on the training set\n",
    "train_accuracy = accuracy_score(y_train, y_train_pred)\n",
    "print()\n",
    "print(\"Training Accuracy:\", train_accuracy * 100)\n",
    "\n",
    "# Make predictions on the test set\n",
    "y_test_pred = best_svm.predict(X_test)\n",
    "\n",
    "# Calculate the accuracy on the test set\n",
    "test_accuracy = accuracy_score(y_test, y_test_pred)\n",
    "print()\n",
    "print(\"Test Accuracy:\", test_accuracy * 100)\n",
    "\n",
    "# Calculate precision, recall, and F1-score\n",
    "precision = precision_score(y_test, y_test_pred, average='weighted')\n",
    "recall = recall_score(y_test, y_test_pred, average='weighted')\n",
    "f1 = f1_score(y_test, y_test_pred, average='weighted')\n",
    "\n",
    "print()\n",
    "print(\"Precision:\", precision)\n",
    "print(\"Recall:\", recall)\n",
    "print(\"F1-score:\", f1)"
   ]
  },
  {
   "cell_type": "code",
   "execution_count": 5,
   "id": "48b642d7-e7bc-44a3-8c72-4f9e5af0abd6",
   "metadata": {},
   "outputs": [
    {
     "name": "stdin",
     "output_type": "stream",
     "text": [
      "Enter sepal length:  6.7\n",
      "Enter sepal width:  3.3\n",
      "Enter petal length:  5.7\n",
      "Enter petal width:  2.1\n"
     ]
    },
    {
     "name": "stdout",
     "output_type": "stream",
     "text": [
      "\n",
      "Predicted Species: Iris-virginica\n"
     ]
    }
   ],
   "source": [
    "# Function to predict the species based on user input\n",
    "def predict_species(sepal_length, sepal_width, petal_length, petal_width):\n",
    "    # Create a DataFrame with the input data and feature names\n",
    "    input_data = pd.DataFrame([[sepal_length, sepal_width, petal_length, petal_width]], \n",
    "                              columns=['sepal_length', 'sepal_width', 'petal_length', 'petal_width'])\n",
    "    prediction = best_svm.predict(input_data)\n",
    "    return prediction[0]\n",
    "\n",
    "# Get user input for prediction\n",
    "sepal_length = float(input(\"Enter sepal length: \"))\n",
    "sepal_width = float(input(\"Enter sepal width: \"))\n",
    "petal_length = float(input(\"Enter petal length: \"))\n",
    "petal_width = float(input(\"Enter petal width: \"))\n",
    "\n",
    "# Predict the species based on user input\n",
    "predicted_species = predict_species(sepal_length, sepal_width, petal_length, petal_width)\n",
    "print()\n",
    "print(\"Predicted Species:\", predicted_species)\n"
   ]
  },
  {
   "cell_type": "code",
   "execution_count": null,
   "id": "5578e6d4-d8af-41cf-9cf3-c9d22b24b39c",
   "metadata": {},
   "outputs": [],
   "source": []
  }
 ],
 "metadata": {
  "kernelspec": {
   "display_name": "Python 3 (ipykernel)",
   "language": "python",
   "name": "python3"
  },
  "language_info": {
   "codemirror_mode": {
    "name": "ipython",
    "version": 3
   },
   "file_extension": ".py",
   "mimetype": "text/x-python",
   "name": "python",
   "nbconvert_exporter": "python",
   "pygments_lexer": "ipython3",
   "version": "3.12.1"
  }
 },
 "nbformat": 4,
 "nbformat_minor": 5
}
